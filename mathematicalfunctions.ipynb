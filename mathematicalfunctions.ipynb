import matplotlib.pyplot as plt
#%matplotlib inline
import numpy as np
x=np.arange(-10,10.1,0.1)
y1=2*np.sin(x/2)
plt.plot(x,y1,"b")
y2=2*np.sin(2*x)
plt.plot(x,y2,"c")
y3=1+np.sin(2*x)
plt.plot(x,y3,"r")
plt.title("Funções")
plt.grid()
plt.xlabel("Eixo X")
plt.ylabel("Eixo Y")